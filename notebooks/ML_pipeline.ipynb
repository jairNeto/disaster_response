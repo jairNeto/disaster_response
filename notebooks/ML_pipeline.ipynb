{
  "nbformat": 4,
  "nbformat_minor": 0,
  "metadata": {
    "colab": {
      "name": "ML-pipeline.ipynb",
      "provenance": [],
      "collapsed_sections": [],
      "toc_visible": true
    },
    "kernelspec": {
      "display_name": "Python 3",
      "name": "python3"
    }
  },
  "cells": [
    {
      "cell_type": "markdown",
      "metadata": {
        "id": "nRdI5CdpyA9T"
      },
      "source": [
        "# Importing the libraries"
      ]
    },
    {
      "cell_type": "code",
      "metadata": {
        "colab": {
          "base_uri": "https://localhost:8080/"
        },
        "id": "BvyZA3iMbECr",
        "outputId": "17b6625b-2e7a-448b-b620-e43df5ae9aa2"
      },
      "source": [
        "import nltk\n",
        "nltk.download(['punkt', 'wordnet', 'averaged_perceptron_tagger', 'stopwords'])\n",
        "\n",
        "import re\n",
        "import numpy as np\n",
        "import pandas as pd\n",
        "import matplotlib.pyplot as plt\n",
        "from nltk import pos_tag\n",
        "from nltk.tokenize import word_tokenize\n",
        "from nltk.stem import WordNetLemmatizer\n",
        "from nltk.stem.porter import PorterStemmer\n",
        "from nltk.corpus import stopwords\n",
        "from sqlalchemy import create_engine\n",
        "from sklearn.metrics import confusion_matrix, classification_report\n",
        "from sklearn.model_selection import GridSearchCV\n",
        "from sklearn.ensemble import RandomForestClassifier\n",
        "from sklearn.model_selection import train_test_split\n",
        "from sklearn.pipeline import Pipeline, FeatureUnion\n",
        "from sklearn.base import BaseEstimator, TransformerMixin\n",
        "from sklearn.feature_extraction.text import CountVectorizer, TfidfTransformer\n",
        "from sklearn.multioutput import MultiOutputClassifier\n",
        "from xgboost import XGBClassifier\n",
        "from gensim.models import Word2Vec \n",
        "import joblib"
      ],
      "execution_count": 1,
      "outputs": [
        {
          "output_type": "stream",
          "text": [
            "[nltk_data] Downloading package punkt to /root/nltk_data...\n",
            "[nltk_data]   Unzipping tokenizers/punkt.zip.\n",
            "[nltk_data] Downloading package wordnet to /root/nltk_data...\n",
            "[nltk_data]   Unzipping corpora/wordnet.zip.\n",
            "[nltk_data] Downloading package averaged_perceptron_tagger to\n",
            "[nltk_data]     /root/nltk_data...\n",
            "[nltk_data]   Unzipping taggers/averaged_perceptron_tagger.zip.\n",
            "[nltk_data] Downloading package stopwords to /root/nltk_data...\n",
            "[nltk_data]   Unzipping corpora/stopwords.zip.\n"
          ],
          "name": "stdout"
        }
      ]
    },
    {
      "cell_type": "markdown",
      "metadata": {
        "id": "IAn5Tlc5yGTB"
      },
      "source": [
        "# Loading the data"
      ]
    },
    {
      "cell_type": "code",
      "metadata": {
        "id": "tIo2dxERaLIc"
      },
      "source": [
        "# load data from database\n",
        "engine = create_engine('sqlite:///../data/DisasterResponse.db')\n",
        "df = pd.read_sql_table('disasters_df', engine)"
      ],
      "execution_count": 50,
      "outputs": []
    },
    {
      "cell_type": "markdown",
      "metadata": {
        "id": "mF20gUNoyJLc"
      },
      "source": [
        "# Data Exploration"
      ]
    },
    {
      "cell_type": "code",
      "metadata": {
        "colab": {
          "base_uri": "https://localhost:8080/"
        },
        "id": "4xSPJZdxmVNV",
        "outputId": "8e3ec750-3867-44f7-a66b-dce854ba3995"
      },
      "source": [
        "# Data length\n",
        "df.shape[0]"
      ],
      "execution_count": 51,
      "outputs": [
        {
          "output_type": "execute_result",
          "data": {
            "text/plain": [
              "26216"
            ]
          },
          "metadata": {
            "tags": []
          },
          "execution_count": 51
        }
      ]
    },
    {
      "cell_type": "code",
      "metadata": {
        "colab": {
          "base_uri": "https://localhost:8080/"
        },
        "id": "42ReHdWLoX-j",
        "outputId": "69d5829c-98bd-420c-a5f6-b1e5da718f26"
      },
      "source": [
        "df.isna().sum()"
      ],
      "execution_count": 52,
      "outputs": [
        {
          "output_type": "execute_result",
          "data": {
            "text/plain": [
              "id                            0\n",
              "message                       0\n",
              "original                  16046\n",
              "genre                         0\n",
              "related                       0\n",
              "request                       0\n",
              "offer                         0\n",
              "aid_related                   0\n",
              "medical_help                  0\n",
              "medical_products              0\n",
              "search_and_rescue             0\n",
              "security                      0\n",
              "military                      0\n",
              "child_alone                   0\n",
              "water                         0\n",
              "food                          0\n",
              "shelter                       0\n",
              "clothing                      0\n",
              "money                         0\n",
              "missing_people                0\n",
              "refugees                      0\n",
              "death                         0\n",
              "other_aid                     0\n",
              "infrastructure_related        0\n",
              "transport                     0\n",
              "buildings                     0\n",
              "electricity                   0\n",
              "tools                         0\n",
              "hospitals                     0\n",
              "shops                         0\n",
              "aid_centers                   0\n",
              "other_infrastructure          0\n",
              "weather_related               0\n",
              "floods                        0\n",
              "storm                         0\n",
              "fire                          0\n",
              "earthquake                    0\n",
              "cold                          0\n",
              "other_weather                 0\n",
              "direct_report                 0\n",
              "dtype: int64"
            ]
          },
          "metadata": {
            "tags": []
          },
          "execution_count": 52
        }
      ]
    },
    {
      "cell_type": "markdown",
      "metadata": {
        "id": "xWA-izNtyQbn"
      },
      "source": [
        "There is only one column that has NA value, the original column. Let's take a look."
      ]
    },
    {
      "cell_type": "code",
      "metadata": {
        "colab": {
          "base_uri": "https://localhost:8080/",
          "height": 1000
        },
        "id": "4iwRR34opgKH",
        "outputId": "866f608f-759b-4ddd-b578-14a4c1268909"
      },
      "source": [
        "df[df['original'].isna()]"
      ],
      "execution_count": 53,
      "outputs": [
        {
          "output_type": "execute_result",
          "data": {
            "text/html": [
              "<div>\n",
              "<style scoped>\n",
              "    .dataframe tbody tr th:only-of-type {\n",
              "        vertical-align: middle;\n",
              "    }\n",
              "\n",
              "    .dataframe tbody tr th {\n",
              "        vertical-align: top;\n",
              "    }\n",
              "\n",
              "    .dataframe thead th {\n",
              "        text-align: right;\n",
              "    }\n",
              "</style>\n",
              "<table border=\"1\" class=\"dataframe\">\n",
              "  <thead>\n",
              "    <tr style=\"text-align: right;\">\n",
              "      <th></th>\n",
              "      <th>id</th>\n",
              "      <th>message</th>\n",
              "      <th>original</th>\n",
              "      <th>genre</th>\n",
              "      <th>related</th>\n",
              "      <th>request</th>\n",
              "      <th>offer</th>\n",
              "      <th>aid_related</th>\n",
              "      <th>medical_help</th>\n",
              "      <th>medical_products</th>\n",
              "      <th>search_and_rescue</th>\n",
              "      <th>security</th>\n",
              "      <th>military</th>\n",
              "      <th>child_alone</th>\n",
              "      <th>water</th>\n",
              "      <th>food</th>\n",
              "      <th>shelter</th>\n",
              "      <th>clothing</th>\n",
              "      <th>money</th>\n",
              "      <th>missing_people</th>\n",
              "      <th>refugees</th>\n",
              "      <th>death</th>\n",
              "      <th>other_aid</th>\n",
              "      <th>infrastructure_related</th>\n",
              "      <th>transport</th>\n",
              "      <th>buildings</th>\n",
              "      <th>electricity</th>\n",
              "      <th>tools</th>\n",
              "      <th>hospitals</th>\n",
              "      <th>shops</th>\n",
              "      <th>aid_centers</th>\n",
              "      <th>other_infrastructure</th>\n",
              "      <th>weather_related</th>\n",
              "      <th>floods</th>\n",
              "      <th>storm</th>\n",
              "      <th>fire</th>\n",
              "      <th>earthquake</th>\n",
              "      <th>cold</th>\n",
              "      <th>other_weather</th>\n",
              "      <th>direct_report</th>\n",
              "    </tr>\n",
              "  </thead>\n",
              "  <tbody>\n",
              "    <tr>\n",
              "      <th>7423</th>\n",
              "      <td>8365</td>\n",
              "      <td>NOTES: It mark as not enough information</td>\n",
              "      <td>None</td>\n",
              "      <td>direct</td>\n",
              "      <td>0</td>\n",
              "      <td>0</td>\n",
              "      <td>0</td>\n",
              "      <td>0</td>\n",
              "      <td>0</td>\n",
              "      <td>0</td>\n",
              "      <td>0</td>\n",
              "      <td>0</td>\n",
              "      <td>0</td>\n",
              "      <td>0</td>\n",
              "      <td>0</td>\n",
              "      <td>0</td>\n",
              "      <td>0</td>\n",
              "      <td>0</td>\n",
              "      <td>0</td>\n",
              "      <td>0</td>\n",
              "      <td>0</td>\n",
              "      <td>0</td>\n",
              "      <td>0</td>\n",
              "      <td>0</td>\n",
              "      <td>0</td>\n",
              "      <td>0</td>\n",
              "      <td>0</td>\n",
              "      <td>0</td>\n",
              "      <td>0</td>\n",
              "      <td>0</td>\n",
              "      <td>0</td>\n",
              "      <td>0</td>\n",
              "      <td>0</td>\n",
              "      <td>0</td>\n",
              "      <td>0</td>\n",
              "      <td>0</td>\n",
              "      <td>0</td>\n",
              "      <td>0</td>\n",
              "      <td>0</td>\n",
              "      <td>0</td>\n",
              "    </tr>\n",
              "    <tr>\n",
              "      <th>9891</th>\n",
              "      <td>11186</td>\n",
              "      <td>My thoughts and prayers go out to all the live...</td>\n",
              "      <td>None</td>\n",
              "      <td>social</td>\n",
              "      <td>1</td>\n",
              "      <td>0</td>\n",
              "      <td>0</td>\n",
              "      <td>0</td>\n",
              "      <td>0</td>\n",
              "      <td>0</td>\n",
              "      <td>0</td>\n",
              "      <td>0</td>\n",
              "      <td>0</td>\n",
              "      <td>0</td>\n",
              "      <td>0</td>\n",
              "      <td>0</td>\n",
              "      <td>0</td>\n",
              "      <td>0</td>\n",
              "      <td>0</td>\n",
              "      <td>0</td>\n",
              "      <td>0</td>\n",
              "      <td>0</td>\n",
              "      <td>0</td>\n",
              "      <td>0</td>\n",
              "      <td>0</td>\n",
              "      <td>0</td>\n",
              "      <td>0</td>\n",
              "      <td>0</td>\n",
              "      <td>0</td>\n",
              "      <td>0</td>\n",
              "      <td>0</td>\n",
              "      <td>0</td>\n",
              "      <td>1</td>\n",
              "      <td>0</td>\n",
              "      <td>0</td>\n",
              "      <td>0</td>\n",
              "      <td>1</td>\n",
              "      <td>0</td>\n",
              "      <td>0</td>\n",
              "      <td>0</td>\n",
              "    </tr>\n",
              "    <tr>\n",
              "      <th>9892</th>\n",
              "      <td>11188</td>\n",
              "      <td>I m sorry for the poor people in Haiti tonight...</td>\n",
              "      <td>None</td>\n",
              "      <td>social</td>\n",
              "      <td>1</td>\n",
              "      <td>0</td>\n",
              "      <td>0</td>\n",
              "      <td>0</td>\n",
              "      <td>0</td>\n",
              "      <td>0</td>\n",
              "      <td>0</td>\n",
              "      <td>0</td>\n",
              "      <td>0</td>\n",
              "      <td>0</td>\n",
              "      <td>0</td>\n",
              "      <td>0</td>\n",
              "      <td>0</td>\n",
              "      <td>0</td>\n",
              "      <td>0</td>\n",
              "      <td>0</td>\n",
              "      <td>0</td>\n",
              "      <td>0</td>\n",
              "      <td>0</td>\n",
              "      <td>0</td>\n",
              "      <td>0</td>\n",
              "      <td>0</td>\n",
              "      <td>0</td>\n",
              "      <td>0</td>\n",
              "      <td>0</td>\n",
              "      <td>0</td>\n",
              "      <td>0</td>\n",
              "      <td>0</td>\n",
              "      <td>1</td>\n",
              "      <td>0</td>\n",
              "      <td>0</td>\n",
              "      <td>0</td>\n",
              "      <td>1</td>\n",
              "      <td>0</td>\n",
              "      <td>0</td>\n",
              "      <td>0</td>\n",
              "    </tr>\n",
              "    <tr>\n",
              "      <th>9893</th>\n",
              "      <td>11189</td>\n",
              "      <td>RT selenagomez UNICEF has just announced an em...</td>\n",
              "      <td>None</td>\n",
              "      <td>social</td>\n",
              "      <td>1</td>\n",
              "      <td>0</td>\n",
              "      <td>0</td>\n",
              "      <td>1</td>\n",
              "      <td>0</td>\n",
              "      <td>0</td>\n",
              "      <td>0</td>\n",
              "      <td>0</td>\n",
              "      <td>0</td>\n",
              "      <td>0</td>\n",
              "      <td>0</td>\n",
              "      <td>0</td>\n",
              "      <td>0</td>\n",
              "      <td>0</td>\n",
              "      <td>0</td>\n",
              "      <td>0</td>\n",
              "      <td>0</td>\n",
              "      <td>0</td>\n",
              "      <td>1</td>\n",
              "      <td>0</td>\n",
              "      <td>0</td>\n",
              "      <td>0</td>\n",
              "      <td>0</td>\n",
              "      <td>0</td>\n",
              "      <td>0</td>\n",
              "      <td>0</td>\n",
              "      <td>0</td>\n",
              "      <td>0</td>\n",
              "      <td>1</td>\n",
              "      <td>0</td>\n",
              "      <td>0</td>\n",
              "      <td>0</td>\n",
              "      <td>1</td>\n",
              "      <td>0</td>\n",
              "      <td>0</td>\n",
              "      <td>0</td>\n",
              "    </tr>\n",
              "    <tr>\n",
              "      <th>9894</th>\n",
              "      <td>11192</td>\n",
              "      <td>lilithia yes 5.2 magnitude earthquake hit mani...</td>\n",
              "      <td>None</td>\n",
              "      <td>social</td>\n",
              "      <td>1</td>\n",
              "      <td>0</td>\n",
              "      <td>0</td>\n",
              "      <td>0</td>\n",
              "      <td>0</td>\n",
              "      <td>0</td>\n",
              "      <td>0</td>\n",
              "      <td>0</td>\n",
              "      <td>0</td>\n",
              "      <td>0</td>\n",
              "      <td>0</td>\n",
              "      <td>0</td>\n",
              "      <td>0</td>\n",
              "      <td>0</td>\n",
              "      <td>0</td>\n",
              "      <td>0</td>\n",
              "      <td>0</td>\n",
              "      <td>0</td>\n",
              "      <td>0</td>\n",
              "      <td>0</td>\n",
              "      <td>0</td>\n",
              "      <td>0</td>\n",
              "      <td>0</td>\n",
              "      <td>0</td>\n",
              "      <td>0</td>\n",
              "      <td>0</td>\n",
              "      <td>0</td>\n",
              "      <td>0</td>\n",
              "      <td>1</td>\n",
              "      <td>0</td>\n",
              "      <td>0</td>\n",
              "      <td>0</td>\n",
              "      <td>1</td>\n",
              "      <td>0</td>\n",
              "      <td>0</td>\n",
              "      <td>0</td>\n",
              "    </tr>\n",
              "    <tr>\n",
              "      <th>...</th>\n",
              "      <td>...</td>\n",
              "      <td>...</td>\n",
              "      <td>...</td>\n",
              "      <td>...</td>\n",
              "      <td>...</td>\n",
              "      <td>...</td>\n",
              "      <td>...</td>\n",
              "      <td>...</td>\n",
              "      <td>...</td>\n",
              "      <td>...</td>\n",
              "      <td>...</td>\n",
              "      <td>...</td>\n",
              "      <td>...</td>\n",
              "      <td>...</td>\n",
              "      <td>...</td>\n",
              "      <td>...</td>\n",
              "      <td>...</td>\n",
              "      <td>...</td>\n",
              "      <td>...</td>\n",
              "      <td>...</td>\n",
              "      <td>...</td>\n",
              "      <td>...</td>\n",
              "      <td>...</td>\n",
              "      <td>...</td>\n",
              "      <td>...</td>\n",
              "      <td>...</td>\n",
              "      <td>...</td>\n",
              "      <td>...</td>\n",
              "      <td>...</td>\n",
              "      <td>...</td>\n",
              "      <td>...</td>\n",
              "      <td>...</td>\n",
              "      <td>...</td>\n",
              "      <td>...</td>\n",
              "      <td>...</td>\n",
              "      <td>...</td>\n",
              "      <td>...</td>\n",
              "      <td>...</td>\n",
              "      <td>...</td>\n",
              "      <td>...</td>\n",
              "    </tr>\n",
              "    <tr>\n",
              "      <th>26211</th>\n",
              "      <td>30261</td>\n",
              "      <td>The training demonstrated how to enhance micro...</td>\n",
              "      <td>None</td>\n",
              "      <td>news</td>\n",
              "      <td>0</td>\n",
              "      <td>0</td>\n",
              "      <td>0</td>\n",
              "      <td>0</td>\n",
              "      <td>0</td>\n",
              "      <td>0</td>\n",
              "      <td>0</td>\n",
              "      <td>0</td>\n",
              "      <td>0</td>\n",
              "      <td>0</td>\n",
              "      <td>0</td>\n",
              "      <td>0</td>\n",
              "      <td>0</td>\n",
              "      <td>0</td>\n",
              "      <td>0</td>\n",
              "      <td>0</td>\n",
              "      <td>0</td>\n",
              "      <td>0</td>\n",
              "      <td>0</td>\n",
              "      <td>0</td>\n",
              "      <td>0</td>\n",
              "      <td>0</td>\n",
              "      <td>0</td>\n",
              "      <td>0</td>\n",
              "      <td>0</td>\n",
              "      <td>0</td>\n",
              "      <td>0</td>\n",
              "      <td>0</td>\n",
              "      <td>0</td>\n",
              "      <td>0</td>\n",
              "      <td>0</td>\n",
              "      <td>0</td>\n",
              "      <td>0</td>\n",
              "      <td>0</td>\n",
              "      <td>0</td>\n",
              "      <td>0</td>\n",
              "    </tr>\n",
              "    <tr>\n",
              "      <th>26212</th>\n",
              "      <td>30262</td>\n",
              "      <td>A suitable candidate has been selected and OCH...</td>\n",
              "      <td>None</td>\n",
              "      <td>news</td>\n",
              "      <td>0</td>\n",
              "      <td>0</td>\n",
              "      <td>0</td>\n",
              "      <td>0</td>\n",
              "      <td>0</td>\n",
              "      <td>0</td>\n",
              "      <td>0</td>\n",
              "      <td>0</td>\n",
              "      <td>0</td>\n",
              "      <td>0</td>\n",
              "      <td>0</td>\n",
              "      <td>0</td>\n",
              "      <td>0</td>\n",
              "      <td>0</td>\n",
              "      <td>0</td>\n",
              "      <td>0</td>\n",
              "      <td>0</td>\n",
              "      <td>0</td>\n",
              "      <td>0</td>\n",
              "      <td>0</td>\n",
              "      <td>0</td>\n",
              "      <td>0</td>\n",
              "      <td>0</td>\n",
              "      <td>0</td>\n",
              "      <td>0</td>\n",
              "      <td>0</td>\n",
              "      <td>0</td>\n",
              "      <td>0</td>\n",
              "      <td>0</td>\n",
              "      <td>0</td>\n",
              "      <td>0</td>\n",
              "      <td>0</td>\n",
              "      <td>0</td>\n",
              "      <td>0</td>\n",
              "      <td>0</td>\n",
              "      <td>0</td>\n",
              "    </tr>\n",
              "    <tr>\n",
              "      <th>26213</th>\n",
              "      <td>30263</td>\n",
              "      <td>Proshika, operating in Cox's Bazar municipalit...</td>\n",
              "      <td>None</td>\n",
              "      <td>news</td>\n",
              "      <td>1</td>\n",
              "      <td>0</td>\n",
              "      <td>0</td>\n",
              "      <td>0</td>\n",
              "      <td>0</td>\n",
              "      <td>0</td>\n",
              "      <td>0</td>\n",
              "      <td>0</td>\n",
              "      <td>0</td>\n",
              "      <td>0</td>\n",
              "      <td>0</td>\n",
              "      <td>0</td>\n",
              "      <td>0</td>\n",
              "      <td>0</td>\n",
              "      <td>0</td>\n",
              "      <td>0</td>\n",
              "      <td>0</td>\n",
              "      <td>0</td>\n",
              "      <td>0</td>\n",
              "      <td>0</td>\n",
              "      <td>0</td>\n",
              "      <td>0</td>\n",
              "      <td>0</td>\n",
              "      <td>0</td>\n",
              "      <td>0</td>\n",
              "      <td>0</td>\n",
              "      <td>0</td>\n",
              "      <td>0</td>\n",
              "      <td>0</td>\n",
              "      <td>0</td>\n",
              "      <td>0</td>\n",
              "      <td>0</td>\n",
              "      <td>0</td>\n",
              "      <td>0</td>\n",
              "      <td>0</td>\n",
              "      <td>0</td>\n",
              "    </tr>\n",
              "    <tr>\n",
              "      <th>26214</th>\n",
              "      <td>30264</td>\n",
              "      <td>Some 2,000 women protesting against the conduc...</td>\n",
              "      <td>None</td>\n",
              "      <td>news</td>\n",
              "      <td>1</td>\n",
              "      <td>0</td>\n",
              "      <td>0</td>\n",
              "      <td>1</td>\n",
              "      <td>0</td>\n",
              "      <td>0</td>\n",
              "      <td>0</td>\n",
              "      <td>0</td>\n",
              "      <td>1</td>\n",
              "      <td>0</td>\n",
              "      <td>0</td>\n",
              "      <td>0</td>\n",
              "      <td>0</td>\n",
              "      <td>0</td>\n",
              "      <td>0</td>\n",
              "      <td>0</td>\n",
              "      <td>0</td>\n",
              "      <td>0</td>\n",
              "      <td>0</td>\n",
              "      <td>0</td>\n",
              "      <td>0</td>\n",
              "      <td>0</td>\n",
              "      <td>0</td>\n",
              "      <td>0</td>\n",
              "      <td>0</td>\n",
              "      <td>0</td>\n",
              "      <td>0</td>\n",
              "      <td>0</td>\n",
              "      <td>0</td>\n",
              "      <td>0</td>\n",
              "      <td>0</td>\n",
              "      <td>0</td>\n",
              "      <td>0</td>\n",
              "      <td>0</td>\n",
              "      <td>0</td>\n",
              "      <td>0</td>\n",
              "    </tr>\n",
              "    <tr>\n",
              "      <th>26215</th>\n",
              "      <td>30265</td>\n",
              "      <td>A radical shift in thinking came about as a re...</td>\n",
              "      <td>None</td>\n",
              "      <td>news</td>\n",
              "      <td>1</td>\n",
              "      <td>0</td>\n",
              "      <td>0</td>\n",
              "      <td>0</td>\n",
              "      <td>0</td>\n",
              "      <td>0</td>\n",
              "      <td>0</td>\n",
              "      <td>0</td>\n",
              "      <td>0</td>\n",
              "      <td>0</td>\n",
              "      <td>0</td>\n",
              "      <td>0</td>\n",
              "      <td>0</td>\n",
              "      <td>0</td>\n",
              "      <td>0</td>\n",
              "      <td>0</td>\n",
              "      <td>0</td>\n",
              "      <td>0</td>\n",
              "      <td>0</td>\n",
              "      <td>0</td>\n",
              "      <td>0</td>\n",
              "      <td>0</td>\n",
              "      <td>0</td>\n",
              "      <td>0</td>\n",
              "      <td>0</td>\n",
              "      <td>0</td>\n",
              "      <td>0</td>\n",
              "      <td>0</td>\n",
              "      <td>0</td>\n",
              "      <td>0</td>\n",
              "      <td>0</td>\n",
              "      <td>0</td>\n",
              "      <td>0</td>\n",
              "      <td>0</td>\n",
              "      <td>0</td>\n",
              "      <td>0</td>\n",
              "    </tr>\n",
              "  </tbody>\n",
              "</table>\n",
              "<p>16046 rows × 40 columns</p>\n",
              "</div>"
            ],
            "text/plain": [
              "          id  ... direct_report\n",
              "7423    8365  ...             0\n",
              "9891   11186  ...             0\n",
              "9892   11188  ...             0\n",
              "9893   11189  ...             0\n",
              "9894   11192  ...             0\n",
              "...      ...  ...           ...\n",
              "26211  30261  ...             0\n",
              "26212  30262  ...             0\n",
              "26213  30263  ...             0\n",
              "26214  30264  ...             0\n",
              "26215  30265  ...             0\n",
              "\n",
              "[16046 rows x 40 columns]"
            ]
          },
          "metadata": {
            "tags": []
          },
          "execution_count": 53
        }
      ]
    },
    {
      "cell_type": "markdown",
      "metadata": {
        "id": "HzvnAi_LydDi"
      },
      "source": [
        "It's seems like, when the message is already in english the original value is None."
      ]
    },
    {
      "cell_type": "markdown",
      "metadata": {
        "id": "FDYq_d-Qymtw"
      },
      "source": [
        "## Getting the number of observations per label"
      ]
    },
    {
      "cell_type": "code",
      "metadata": {
        "id": "PX4rfxUxp0wS",
        "colab": {
          "base_uri": "https://localhost:8080/"
        },
        "outputId": "7821921d-973e-4f39-f45d-685f2035ce89"
      },
      "source": [
        "cols_df = pd.DataFrame(columns=['col', 'num_obs'])\n",
        "for col in df.iloc[:, 4:].columns:\n",
        "  cols_df = cols_df.append({'col': col, 'num_obs': df[df[col] == 1].shape[0]}, ignore_index=True)\n",
        "\n",
        "cols_df = cols_df.sort_values(['num_obs'])\n",
        "print(cols_df.head())"
      ],
      "execution_count": 54,
      "outputs": [
        {
          "output_type": "stream",
          "text": [
            "            col num_obs\n",
            "9   child_alone       0\n",
            "2         offer     118\n",
            "25        shops     120\n",
            "23        tools     159\n",
            "31         fire     282\n"
          ],
          "name": "stdout"
        }
      ]
    },
    {
      "cell_type": "code",
      "metadata": {
        "colab": {
          "base_uri": "https://localhost:8080/"
        },
        "id": "MKPm_-5m4tHU",
        "outputId": "05d5d96f-d8fa-4276-958e-33b6910bc0cd"
      },
      "source": [
        "cols_df['col'].values"
      ],
      "execution_count": 55,
      "outputs": [
        {
          "output_type": "execute_result",
          "data": {
            "text/plain": [
              "array(['child_alone', 'offer', 'shops', 'tools', 'fire', 'hospitals',\n",
              "       'missing_people', 'aid_centers', 'clothing', 'security', 'cold',\n",
              "       'electricity', 'money', 'search_and_rescue', 'military',\n",
              "       'refugees', 'other_infrastructure', 'death', 'transport',\n",
              "       'medical_products', 'buildings', 'other_weather', 'water',\n",
              "       'infrastructure_related', 'medical_help', 'floods', 'shelter',\n",
              "       'storm', 'earthquake', 'food', 'other_aid', 'request',\n",
              "       'direct_report', 'weather_related', 'aid_related', 'related'],\n",
              "      dtype=object)"
            ]
          },
          "metadata": {
            "tags": []
          },
          "execution_count": 55
        }
      ]
    },
    {
      "cell_type": "code",
      "metadata": {
        "colab": {
          "base_uri": "https://localhost:8080/",
          "height": 884
        },
        "id": "txDggxHtzTWg",
        "outputId": "cf376a11-0d8d-44ab-95c3-ccc37618a2d6"
      },
      "source": [
        "fig, ax = plt.subplots(figsize=(17, 15))\n",
        "ax.barh(cols_df['col'].values, cols_df['num_obs'].values)\n",
        "plt.title(\"Number of observations per label\")\n",
        "plt.xlabel(\"Num of observations\")\n",
        "plt.ylabel(\"Labels\")\n",
        "plt.show();"
      ],
      "execution_count": 56,
      "outputs": [
        {
          "output_type": "display_data",
          "data": {
            "image/png": "[encoded data removed]",
            "text/plain": [
              "<Figure size 1224x1080 with 1 Axes>"
            ]
          },
          "metadata": {
            "tags": [],
            "needs_background": "light"
          }
        }
      ]
    },
    {
      "cell_type": "markdown",
      "metadata": {
        "id": "ZuemR_rk0XgE"
      },
      "source": [
        "The child_alone label has 0 observations, so I gonna drop it\n"
      ]
    },
    {
      "cell_type": "code",
      "metadata": {
        "id": "7VKOnDbd0bIg"
      },
      "source": [
        "df.drop('child_alone', inplace=True, axis=1)"
      ],
      "execution_count": 58,
      "outputs": []
    },
    {
      "cell_type": "markdown",
      "metadata": {
        "id": "dpC89JF11h8F"
      },
      "source": [
        "# Spliting the data in train and test"
      ]
    },
    {
      "cell_type": "code",
      "metadata": {
        "id": "BHeXC8vQ1m2M"
      },
      "source": [
        "X = df.message.values\n",
        "Y = df.iloc[:, 4:].values"
      ],
      "execution_count": 62,
      "outputs": []
    },
    {
      "cell_type": "code",
      "metadata": {
        "id": "5oN6ZC-oadsU"
      },
      "source": [
        "X_train, X_test, y_train, y_test = train_test_split(X, Y, test_size=.2)"
      ],
      "execution_count": 74,
      "outputs": []
    },
    {
      "cell_type": "markdown",
      "metadata": {
        "id": "b3nzz8O44QUm"
      },
      "source": [
        "# Modeling"
      ]
    },
    {
      "cell_type": "code",
      "metadata": {
        "id": "mU2r-ulNaX07"
      },
      "source": [
        "def tokenize(text):\n",
        "    \"\"\"Tokenize the text\n",
        "\n",
        "    Parameters\n",
        "    ----------\n",
        "    text: String\n",
        "        The message to be tokenized\n",
        "\n",
        "    Returns\n",
        "    -------\n",
        "    List\n",
        "        List with the clean tokens\n",
        "    \"\"\"\n",
        "    text = text.lower()\n",
        "    text = re.sub(\"[^a-zA-Z0-9]\", \" \", text)\n",
        "    tokens = word_tokenize(text)\n",
        "    tokens = [w for w in tokens if w not in stopwords.words('english')]\n",
        "\n",
        "    lemmatizer = WordNetLemmatizer()\n",
        "    stemmer = PorterStemmer()\n",
        "    \n",
        "    clean_tokens_list = []\n",
        "    for tok in tokens:\n",
        "        lemmatizer_tok = lemmatizer.lemmatize(tok).strip()\n",
        "        clean_tok = stemmer.stem(lemmatizer_tok)\n",
        "        clean_tokens_list.append(clean_tok)\n",
        "    \n",
        "    return clean_tokens_list"
      ],
      "execution_count": 75,
      "outputs": []
    },
    {
      "cell_type": "markdown",
      "metadata": {
        "id": "U64ZSbFi4il9"
      },
      "source": [
        "## Pipeline with CountVectorizer, TfidfTransformer and RandomForest"
      ]
    },
    {
      "cell_type": "code",
      "metadata": {
        "id": "9L7W86Rbaa7B"
      },
      "source": [
        "pipeline = Pipeline([\n",
        "    ('vect', CountVectorizer(tokenizer=tokenize)),\n",
        "    ('tfidf', TfidfTransformer()),\n",
        "    ('clf', MultiOutputClassifier(RandomForestClassifier()))\n",
        "])"
      ],
      "execution_count": 77,
      "outputs": []
    },
    {
      "cell_type": "code",
      "metadata": {
        "id": "hpNqX6pNGO2U",
        "colab": {
          "base_uri": "https://localhost:8080/"
        },
        "outputId": "1e34c0ac-87c5-4533-caae-e9ba3332dee0"
      },
      "source": [
        "# Fitting the data\n",
        "pipeline.fit(X_train, y_train)"
      ],
      "execution_count": 78,
      "outputs": [
        {
          "output_type": "execute_result",
          "data": {
            "text/plain": [
              "Pipeline(memory=None,\n",
              "         steps=[('vect',\n",
              "                 CountVectorizer(analyzer='word', binary=False,\n",
              "                                 decode_error='strict',\n",
              "                                 dtype=<class 'numpy.int64'>, encoding='utf-8',\n",
              "                                 input='content', lowercase=True, max_df=1.0,\n",
              "                                 max_features=None, min_df=1,\n",
              "                                 ngram_range=(1, 1), preprocessor=None,\n",
              "                                 stop_words=None, strip_accents=None,\n",
              "                                 token_pattern='(?u)\\\\b\\\\w\\\\w+\\\\b',\n",
              "                                 tokenizer=<function tokenize at...\n",
              "                                                                        ccp_alpha=0.0,\n",
              "                                                                        class_weight=None,\n",
              "                                                                        criterion='gini',\n",
              "                                                                        max_depth=None,\n",
              "                                                                        max_features='auto',\n",
              "                                                                        max_leaf_nodes=None,\n",
              "                                                                        max_samples=None,\n",
              "                                                                        min_impurity_decrease=0.0,\n",
              "                                                                        min_impurity_split=None,\n",
              "                                                                        min_samples_leaf=1,\n",
              "                                                                        min_samples_split=2,\n",
              "                                                                        min_weight_fraction_leaf=0.0,\n",
              "                                                                        n_estimators=100,\n",
              "                                                                        n_jobs=None,\n",
              "                                                                        oob_score=False,\n",
              "                                                                        random_state=None,\n",
              "                                                                        verbose=0,\n",
              "                                                                        warm_start=False),\n",
              "                                       n_jobs=None))],\n",
              "         verbose=False)"
            ]
          },
          "metadata": {
            "tags": []
          },
          "execution_count": 78
        }
      ]
    },
    {
      "cell_type": "code",
      "metadata": {
        "id": "dadQHQKxafob"
      },
      "source": [
        "# Getting the predictions\n",
        "y_pred = pipeline.predict(X_test)"
      ],
      "execution_count": 79,
      "outputs": []
    },
    {
      "cell_type": "code",
      "metadata": {
        "id": "6whJA5f7Hd0d"
      },
      "source": [
        "def append_metrics_df(metrics_df, metrics, trial, target_metric='weighted avg'):\n",
        "  for column in metrics:\n",
        "    row = {'trial': trial,\n",
        "          'target': column}\n",
        "    for metric in metrics[column][target_metric]:\n",
        "      row[metric] = metrics[column][target_metric][metric]\n",
        "    metrics_df = metrics_df.append(row, ignore_index=True)\n",
        "  return metrics_df"
      ],
      "execution_count": 80,
      "outputs": []
    },
    {
      "cell_type": "markdown",
      "metadata": {
        "id": "O0ndpfSGCLnh"
      },
      "source": [
        "### Getting the Metrics for each label"
      ]
    },
    {
      "cell_type": "code",
      "metadata": {
        "id": "XCnQnlrPbgLv",
        "colab": {
          "base_uri": "https://localhost:8080/"
        },
        "outputId": "f5eec44d-2dcb-42ac-f7c9-91096c0dc6be"
      },
      "source": [
        "metrics_random_forest = {}\n",
        "for i, col in enumerate(list(df.iloc[:, 4:].columns)):\n",
        "    metrics_random_forest[col] = classification_report(y_test[:, i], y_pred[:, i], output_dict=True)"
      ],
      "execution_count": 108,
      "outputs": [
        {
          "output_type": "stream",
          "text": [
            "/usr/local/lib/python3.6/dist-packages/sklearn/metrics/_classification.py:1272: UndefinedMetricWarning: Precision and F-score are ill-defined and being set to 0.0 in labels with no predicted samples. Use `zero_division` parameter to control this behavior.\n",
            "  _warn_prf(average, modifier, msg_start, len(result))\n"
          ],
          "name": "stderr"
        }
      ]
    },
    {
      "cell_type": "markdown",
      "metadata": {
        "id": "xPJxg38iCT6A"
      },
      "source": [
        "### Putting the results at a dataframe to make it possible to compare models"
      ]
    },
    {
      "cell_type": "code",
      "metadata": {
        "id": "qRuW4fYhV6Fn"
      },
      "source": [
        "metrics_df = pd.DataFrame(columns=['trial', 'target', 'f1-score', 'precision', 'recall'])\n",
        "metrics_df = append_metrics_df(metrics_df, metrics_random_forest, 'RandomForest')"
      ],
      "execution_count": 109,
      "outputs": []
    },
    {
      "cell_type": "markdown",
      "metadata": {
        "id": "iwLf15bMCtU4"
      },
      "source": [
        "## Pipeline with CountVectorizer, TfidTransformer and XGBClassifier"
      ]
    },
    {
      "cell_type": "code",
      "metadata": {
        "id": "dgrrE9EoOvns"
      },
      "source": [
        "pipeline2 = Pipeline([\n",
        "    ('vect', CountVectorizer(tokenizer=tokenize)),\n",
        "    ('tfidf', TfidfTransformer()),\n",
        "    ('clf', MultiOutputClassifier(XGBClassifier()))\n",
        "])"
      ],
      "execution_count": 82,
      "outputs": []
    },
    {
      "cell_type": "code",
      "metadata": {
        "colab": {
          "base_uri": "https://localhost:8080/"
        },
        "id": "_k2stjMuQD-5",
        "outputId": "fa73571b-bd42-4e1b-d2c0-3ae128d54078"
      },
      "source": [
        "pipeline2.fit(X_train, y_train)"
      ],
      "execution_count": 83,
      "outputs": [
        {
          "output_type": "execute_result",
          "data": {
            "text/plain": [
              "Pipeline(memory=None,\n",
              "         steps=[('vect',\n",
              "                 CountVectorizer(analyzer='word', binary=False,\n",
              "                                 decode_error='strict',\n",
              "                                 dtype=<class 'numpy.int64'>, encoding='utf-8',\n",
              "                                 input='content', lowercase=True, max_df=1.0,\n",
              "                                 max_features=None, min_df=1,\n",
              "                                 ngram_range=(1, 1), preprocessor=None,\n",
              "                                 stop_words=None, strip_accents=None,\n",
              "                                 token_pattern='(?u)\\\\b\\\\w\\\\w+\\\\b',\n",
              "                                 tokenizer=<function tokenize at...\n",
              "                                                               booster='gbtree',\n",
              "                                                               colsample_bylevel=1,\n",
              "                                                               colsample_bynode=1,\n",
              "                                                               colsample_bytree=1,\n",
              "                                                               gamma=0,\n",
              "                                                               learning_rate=0.1,\n",
              "                                                               max_delta_step=0,\n",
              "                                                               max_depth=3,\n",
              "                                                               min_child_weight=1,\n",
              "                                                               missing=None,\n",
              "                                                               n_estimators=100,\n",
              "                                                               n_jobs=1,\n",
              "                                                               nthread=None,\n",
              "                                                               objective='binary:logistic',\n",
              "                                                               random_state=0,\n",
              "                                                               reg_alpha=0,\n",
              "                                                               reg_lambda=1,\n",
              "                                                               scale_pos_weight=1,\n",
              "                                                               seed=None,\n",
              "                                                               silent=None,\n",
              "                                                               subsample=1,\n",
              "                                                               verbosity=1),\n",
              "                                       n_jobs=None))],\n",
              "         verbose=False)"
            ]
          },
          "metadata": {
            "tags": []
          },
          "execution_count": 83
        }
      ]
    },
    {
      "cell_type": "code",
      "metadata": {
        "id": "az8z_QGvQON7"
      },
      "source": [
        "y_pred2 = pipeline2.predict(X_test)"
      ],
      "execution_count": 84,
      "outputs": []
    },
    {
      "cell_type": "code",
      "metadata": {
        "colab": {
          "base_uri": "https://localhost:8080/"
        },
        "id": "dFnk4NFIRWco",
        "outputId": "121f360c-1170-4d7c-95a4-617231e38714"
      },
      "source": [
        "metrics = {}\n",
        "for i, col in enumerate(list(df.iloc[:, 4:].columns)):\n",
        "    metrics[col] = classification_report(y_test[:, i], y_pred2[:, i], output_dict=True)"
      ],
      "execution_count": 110,
      "outputs": [
        {
          "output_type": "stream",
          "text": [
            "/usr/local/lib/python3.6/dist-packages/sklearn/metrics/_classification.py:1272: UndefinedMetricWarning: Precision and F-score are ill-defined and being set to 0.0 in labels with no predicted samples. Use `zero_division` parameter to control this behavior.\n",
            "  _warn_prf(average, modifier, msg_start, len(result))\n"
          ],
          "name": "stderr"
        }
      ]
    },
    {
      "cell_type": "code",
      "metadata": {
        "id": "oJutUl6vRaMf"
      },
      "source": [
        "metrics_df = append_metrics_df(metrics_df, metrics, 'xgboost')"
      ],
      "execution_count": 111,
      "outputs": []
    },
    {
      "cell_type": "markdown",
      "metadata": {
        "id": "S6X_4X8nC8hG"
      },
      "source": [
        "## Custom Estimators and Transformers"
      ]
    },
    {
      "cell_type": "code",
      "metadata": {
        "id": "ZT4afuRZg9Ha"
      },
      "source": [
        "class StartingVerbExtractor(BaseEstimator, TransformerMixin):\n",
        "\n",
        "    def starting_verb(self, text):\n",
        "        sentence_list = nltk.sent_tokenize(text)\n",
        "        for sentence in sentence_list:\n",
        "            pos_tags = nltk.pos_tag(tokenize(sentence))\n",
        "            if len(pos_tags) > 0:\n",
        "              first_word, first_tag = pos_tags[0]\n",
        "              if first_tag in ['VB', 'VBP'] or first_word == 'RT':\n",
        "                  return True\n",
        "            else:\n",
        "              continue\n",
        "        return False\n",
        "\n",
        "    def fit(self, x, y=None):\n",
        "        return self\n",
        "\n",
        "    def transform(self, X):\n",
        "        X_tagged = pd.Series(X).apply(self.starting_verb)\n",
        "        return pd.DataFrame(X_tagged)"
      ],
      "execution_count": 87,
      "outputs": []
    },
    {
      "cell_type": "code",
      "metadata": {
        "id": "VhaY3-aYkGQD"
      },
      "source": [
        "class CountPosTagTransformer(BaseEstimator, TransformerMixin):\n",
        "    def __init__(self, tag_to_sum='verb'):\n",
        "      if tag_to_sum == 'verb':\n",
        "        self._tag_to_sum = 'VB'\n",
        "      elif tag_to_sum == 'adjective':\n",
        "        self._tag_to_sum = 'JJ'\n",
        "      elif tag_to_sum == 'pronoun':\n",
        "        self._tag_to_sum = 'PRP'\n",
        "      elif tag_to_sum == 'noun':\n",
        "        self._tag_to_sum = 'NN'\n",
        "      else:\n",
        "        self._tag_to_sum = 'VB'        \n",
        "\n",
        "    def sum_types(self, text):\n",
        "        sentence = word_tokenize(text)\n",
        "        tags_list = pos_tag(sentence)\n",
        "        tags_total = 0\n",
        "        for tag in tags_list:\n",
        "          if self._tag_to_sum in tag[1]:\n",
        "            tags_total += 1\n",
        "        return tags_total\n",
        "\n",
        "\n",
        "    def fit(self, x, y=None):\n",
        "        return self\n",
        "\n",
        "    def transform(self, X):\n",
        "        total_tags = pd.Series(X).apply(self.sum_types)\n",
        "        return pd.DataFrame(total_tags)"
      ],
      "execution_count": 154,
      "outputs": []
    },
    {
      "cell_type": "markdown",
      "metadata": {
        "id": "hVFTJ38GDEmO"
      },
      "source": [
        "## Pipeline with CuntVectorizer, TfidfTransformer, StartingVerbExtractor, CountPosTagTransformer for verb, noun, adjective and pronoun and XGBClassifier"
      ]
    },
    {
      "cell_type": "code",
      "metadata": {
        "id": "not_6H5TYj8H"
      },
      "source": [
        "pipeline3 = Pipeline([\n",
        "        ('features', FeatureUnion([\n",
        "\n",
        "            ('text_pipeline', Pipeline([\n",
        "                ('vect', CountVectorizer(tokenizer=tokenize)),\n",
        "                ('tfidf', TfidfTransformer())\n",
        "            ])),\n",
        "\n",
        "            ('starting_verb', StartingVerbExtractor()),\n",
        "            ('num_verbs', CountPosTagTransformer('verb')),\n",
        "            ('num_nouns', CountPosTagTransformer('noun')),\n",
        "            ('num_adjectives', CountPosTagTransformer('adjective')),\n",
        "            ('num_pronouns', CountPosTagTransformer('pronoun'))\n",
        "        ])),\n",
        "\n",
        "        ('clf', MultiOutputClassifier(XGBClassifier()))\n",
        "    ])"
      ],
      "execution_count": 155,
      "outputs": []
    },
    {
      "cell_type": "code",
      "metadata": {
        "colab": {
          "base_uri": "https://localhost:8080/"
        },
        "id": "9UgFJ2K6HH4H",
        "outputId": "31e00121-d150-430e-96b2-6891f6e9963d"
      },
      "source": [
        "pipeline3.fit(X_train, y_train)"
      ],
      "execution_count": 90,
      "outputs": [
        {
          "output_type": "execute_result",
          "data": {
            "text/plain": [
              "Pipeline(memory=None,\n",
              "         steps=[('features',\n",
              "                 FeatureUnion(n_jobs=None,\n",
              "                              transformer_list=[('text_pipeline',\n",
              "                                                 Pipeline(memory=None,\n",
              "                                                          steps=[('vect',\n",
              "                                                                  CountVectorizer(analyzer='word',\n",
              "                                                                                  binary=False,\n",
              "                                                                                  decode_error='strict',\n",
              "                                                                                  dtype=<class 'numpy.int64'>,\n",
              "                                                                                  encoding='utf-8',\n",
              "                                                                                  input='content',\n",
              "                                                                                  lowercase=True,\n",
              "                                                                                  max_df=1.0,\n",
              "                                                                                  max_features=None,\n",
              "                                                                                  min_df=1,\n",
              "                                                                                  ngram_range=(1,\n",
              "                                                                                               1),\n",
              "                                                                                  preprocessor=Non...\n",
              "                                                               booster='gbtree',\n",
              "                                                               colsample_bylevel=1,\n",
              "                                                               colsample_bynode=1,\n",
              "                                                               colsample_bytree=1,\n",
              "                                                               gamma=0,\n",
              "                                                               learning_rate=0.1,\n",
              "                                                               max_delta_step=0,\n",
              "                                                               max_depth=3,\n",
              "                                                               min_child_weight=1,\n",
              "                                                               missing=None,\n",
              "                                                               n_estimators=100,\n",
              "                                                               n_jobs=1,\n",
              "                                                               nthread=None,\n",
              "                                                               objective='binary:logistic',\n",
              "                                                               random_state=0,\n",
              "                                                               reg_alpha=0,\n",
              "                                                               reg_lambda=1,\n",
              "                                                               scale_pos_weight=1,\n",
              "                                                               seed=None,\n",
              "                                                               silent=None,\n",
              "                                                               subsample=1,\n",
              "                                                               verbosity=1),\n",
              "                                       n_jobs=None))],\n",
              "         verbose=False)"
            ]
          },
          "metadata": {
            "tags": []
          },
          "execution_count": 90
        }
      ]
    },
    {
      "cell_type": "code",
      "metadata": {
        "id": "Uh8Wue6jK_Ez"
      },
      "source": [
        "y_predict3 = pipeline3.predict(X_test)"
      ],
      "execution_count": 91,
      "outputs": []
    },
    {
      "cell_type": "code",
      "metadata": {
        "colab": {
          "base_uri": "https://localhost:8080/"
        },
        "id": "h54Sl8YxLJdo",
        "outputId": "ae3cd288-dce5-4b89-f436-c3f1d77e6384"
      },
      "source": [
        "metrics = {}\n",
        "for i, col in enumerate(list(df.iloc[:, 4:].columns)):\n",
        "    metrics[col] = classification_report(y_test[:, i], y_predict3[:, i], output_dict=True)"
      ],
      "execution_count": 112,
      "outputs": [
        {
          "output_type": "stream",
          "text": [
            "/usr/local/lib/python3.6/dist-packages/sklearn/metrics/_classification.py:1272: UndefinedMetricWarning: Precision and F-score are ill-defined and being set to 0.0 in labels with no predicted samples. Use `zero_division` parameter to control this behavior.\n",
            "  _warn_prf(average, modifier, msg_start, len(result))\n"
          ],
          "name": "stderr"
        }
      ]
    },
    {
      "cell_type": "code",
      "metadata": {
        "id": "KhgC9ri5LReF"
      },
      "source": [
        "metrics_df = append_metrics_df(metrics_df, metrics, 'XGBoost_More_Features')"
      ],
      "execution_count": 113,
      "outputs": []
    },
    {
      "cell_type": "markdown",
      "metadata": {
        "id": "cp9ix25WOKS3"
      },
      "source": [
        "## Grid Search"
      ]
    },
    {
      "cell_type": "code",
      "metadata": {
        "colab": {
          "base_uri": "https://localhost:8080/"
        },
        "id": "9OJbSeEJOOad",
        "outputId": "b61cfdf0-dead-4122-d8e6-ad8890b48e1b"
      },
      "source": [
        "pipeline3.get_params()"
      ],
      "execution_count": 127,
      "outputs": [
        {
          "output_type": "execute_result",
          "data": {
            "text/plain": [
              "{'clf': MultiOutputClassifier(estimator=XGBClassifier(base_score=0.5, booster='gbtree',\n",
              "                                               colsample_bylevel=1,\n",
              "                                               colsample_bynode=1,\n",
              "                                               colsample_bytree=1, gamma=0,\n",
              "                                               learning_rate=0.1,\n",
              "                                               max_delta_step=0, max_depth=3,\n",
              "                                               min_child_weight=1, missing=None,\n",
              "                                               n_estimators=100, n_jobs=1,\n",
              "                                               nthread=None,\n",
              "                                               objective='binary:logistic',\n",
              "                                               random_state=0, reg_alpha=0,\n",
              "                                               reg_lambda=1, scale_pos_weight=1,\n",
              "                                               seed=None, silent=None,\n",
              "                                               subsample=1, verbosity=1),\n",
              "                       n_jobs=None),\n",
              " 'clf__estimator': XGBClassifier(base_score=0.5, booster='gbtree', colsample_bylevel=1,\n",
              "               colsample_bynode=1, colsample_bytree=1, gamma=0,\n",
              "               learning_rate=0.1, max_delta_step=0, max_depth=3,\n",
              "               min_child_weight=1, missing=None, n_estimators=100, n_jobs=1,\n",
              "               nthread=None, objective='binary:logistic', random_state=0,\n",
              "               reg_alpha=0, reg_lambda=1, scale_pos_weight=1, seed=None,\n",
              "               silent=None, subsample=1, verbosity=1),\n",
              " 'clf__estimator__base_score': 0.5,\n",
              " 'clf__estimator__booster': 'gbtree',\n",
              " 'clf__estimator__colsample_bylevel': 1,\n",
              " 'clf__estimator__colsample_bynode': 1,\n",
              " 'clf__estimator__colsample_bytree': 1,\n",
              " 'clf__estimator__gamma': 0,\n",
              " 'clf__estimator__learning_rate': 0.1,\n",
              " 'clf__estimator__max_delta_step': 0,\n",
              " 'clf__estimator__max_depth': 3,\n",
              " 'clf__estimator__min_child_weight': 1,\n",
              " 'clf__estimator__missing': None,\n",
              " 'clf__estimator__n_estimators': 100,\n",
              " 'clf__estimator__n_jobs': 1,\n",
              " 'clf__estimator__nthread': None,\n",
              " 'clf__estimator__objective': 'binary:logistic',\n",
              " 'clf__estimator__random_state': 0,\n",
              " 'clf__estimator__reg_alpha': 0,\n",
              " 'clf__estimator__reg_lambda': 1,\n",
              " 'clf__estimator__scale_pos_weight': 1,\n",
              " 'clf__estimator__seed': None,\n",
              " 'clf__estimator__silent': None,\n",
              " 'clf__estimator__subsample': 1,\n",
              " 'clf__estimator__verbosity': 1,\n",
              " 'clf__n_jobs': None,\n",
              " 'features': FeatureUnion(n_jobs=None,\n",
              "              transformer_list=[('text_pipeline',\n",
              "                                 Pipeline(memory=None,\n",
              "                                          steps=[('vect',\n",
              "                                                  CountVectorizer(analyzer='word',\n",
              "                                                                  binary=False,\n",
              "                                                                  decode_error='strict',\n",
              "                                                                  dtype=<class 'numpy.int64'>,\n",
              "                                                                  encoding='utf-8',\n",
              "                                                                  input='content',\n",
              "                                                                  lowercase=True,\n",
              "                                                                  max_df=1.0,\n",
              "                                                                  max_features=None,\n",
              "                                                                  min_df=1,\n",
              "                                                                  ngram_range=(1,\n",
              "                                                                               1),\n",
              "                                                                  preprocessor=None,\n",
              "                                                                  stop_words=None,\n",
              "                                                                  strip_accents=None,\n",
              "                                                                  tok...\n",
              "                                                                   sublinear_tf=False,\n",
              "                                                                   use_idf=True))],\n",
              "                                          verbose=False)),\n",
              "                                ('starting_verb', StartingVerbExtractor()),\n",
              "                                ('num_verbs',\n",
              "                                 CountPosTagTransformer(tag_to_sum='VB')),\n",
              "                                ('num_nouns',\n",
              "                                 CountPosTagTransformer(tag_to_sum='NN')),\n",
              "                                ('num_adjectives',\n",
              "                                 CountPosTagTransformer(tag_to_sum='JJ')),\n",
              "                                ('num_pronouns',\n",
              "                                 CountPosTagTransformer(tag_to_sum='PRP'))],\n",
              "              transformer_weights=None, verbose=False),\n",
              " 'features__n_jobs': None,\n",
              " 'features__num_adjectives': CountPosTagTransformer(tag_to_sum='JJ'),\n",
              " 'features__num_adjectives__tag_to_sum': 'JJ',\n",
              " 'features__num_nouns': CountPosTagTransformer(tag_to_sum='NN'),\n",
              " 'features__num_nouns__tag_to_sum': 'NN',\n",
              " 'features__num_pronouns': CountPosTagTransformer(tag_to_sum='PRP'),\n",
              " 'features__num_pronouns__tag_to_sum': 'PRP',\n",
              " 'features__num_verbs': CountPosTagTransformer(tag_to_sum='VB'),\n",
              " 'features__num_verbs__tag_to_sum': 'VB',\n",
              " 'features__starting_verb': StartingVerbExtractor(),\n",
              " 'features__text_pipeline': Pipeline(memory=None,\n",
              "          steps=[('vect',\n",
              "                  CountVectorizer(analyzer='word', binary=False,\n",
              "                                  decode_error='strict',\n",
              "                                  dtype=<class 'numpy.int64'>, encoding='utf-8',\n",
              "                                  input='content', lowercase=True, max_df=1.0,\n",
              "                                  max_features=None, min_df=1,\n",
              "                                  ngram_range=(1, 1), preprocessor=None,\n",
              "                                  stop_words=None, strip_accents=None,\n",
              "                                  token_pattern='(?u)\\\\b\\\\w\\\\w+\\\\b',\n",
              "                                  tokenizer=<function tokenize at 0x7f1cf0b2fa60>,\n",
              "                                  vocabulary=None)),\n",
              "                 ('tfidf',\n",
              "                  TfidfTransformer(norm='l2', smooth_idf=True,\n",
              "                                   sublinear_tf=False, use_idf=True))],\n",
              "          verbose=False),\n",
              " 'features__text_pipeline__memory': None,\n",
              " 'features__text_pipeline__steps': [('vect',\n",
              "   CountVectorizer(analyzer='word', binary=False, decode_error='strict',\n",
              "                   dtype=<class 'numpy.int64'>, encoding='utf-8', input='content',\n",
              "                   lowercase=True, max_df=1.0, max_features=None, min_df=1,\n",
              "                   ngram_range=(1, 1), preprocessor=None, stop_words=None,\n",
              "                   strip_accents=None, token_pattern='(?u)\\\\b\\\\w\\\\w+\\\\b',\n",
              "                   tokenizer=<function tokenize at 0x7f1cf0b2fa60>,\n",
              "                   vocabulary=None)),\n",
              "  ('tfidf',\n",
              "   TfidfTransformer(norm='l2', smooth_idf=True, sublinear_tf=False, use_idf=True))],\n",
              " 'features__text_pipeline__tfidf': TfidfTransformer(norm='l2', smooth_idf=True, sublinear_tf=False, use_idf=True),\n",
              " 'features__text_pipeline__tfidf__norm': 'l2',\n",
              " 'features__text_pipeline__tfidf__smooth_idf': True,\n",
              " 'features__text_pipeline__tfidf__sublinear_tf': False,\n",
              " 'features__text_pipeline__tfidf__use_idf': True,\n",
              " 'features__text_pipeline__vect': CountVectorizer(analyzer='word', binary=False, decode_error='strict',\n",
              "                 dtype=<class 'numpy.int64'>, encoding='utf-8', input='content',\n",
              "                 lowercase=True, max_df=1.0, max_features=None, min_df=1,\n",
              "                 ngram_range=(1, 1), preprocessor=None, stop_words=None,\n",
              "                 strip_accents=None, token_pattern='(?u)\\\\b\\\\w\\\\w+\\\\b',\n",
              "                 tokenizer=<function tokenize at 0x7f1cf0b2fa60>,\n",
              "                 vocabulary=None),\n",
              " 'features__text_pipeline__vect__analyzer': 'word',\n",
              " 'features__text_pipeline__vect__binary': False,\n",
              " 'features__text_pipeline__vect__decode_error': 'strict',\n",
              " 'features__text_pipeline__vect__dtype': numpy.int64,\n",
              " 'features__text_pipeline__vect__encoding': 'utf-8',\n",
              " 'features__text_pipeline__vect__input': 'content',\n",
              " 'features__text_pipeline__vect__lowercase': True,\n",
              " 'features__text_pipeline__vect__max_df': 1.0,\n",
              " 'features__text_pipeline__vect__max_features': None,\n",
              " 'features__text_pipeline__vect__min_df': 1,\n",
              " 'features__text_pipeline__vect__ngram_range': (1, 1),\n",
              " 'features__text_pipeline__vect__preprocessor': None,\n",
              " 'features__text_pipeline__vect__stop_words': None,\n",
              " 'features__text_pipeline__vect__strip_accents': None,\n",
              " 'features__text_pipeline__vect__token_pattern': '(?u)\\\\b\\\\w\\\\w+\\\\b',\n",
              " 'features__text_pipeline__vect__tokenizer': <function __main__.tokenize>,\n",
              " 'features__text_pipeline__vect__vocabulary': None,\n",
              " 'features__text_pipeline__verbose': False,\n",
              " 'features__transformer_list': [('text_pipeline', Pipeline(memory=None,\n",
              "            steps=[('vect',\n",
              "                    CountVectorizer(analyzer='word', binary=False,\n",
              "                                    decode_error='strict',\n",
              "                                    dtype=<class 'numpy.int64'>, encoding='utf-8',\n",
              "                                    input='content', lowercase=True, max_df=1.0,\n",
              "                                    max_features=None, min_df=1,\n",
              "                                    ngram_range=(1, 1), preprocessor=None,\n",
              "                                    stop_words=None, strip_accents=None,\n",
              "                                    token_pattern='(?u)\\\\b\\\\w\\\\w+\\\\b',\n",
              "                                    tokenizer=<function tokenize at 0x7f1cf0b2fa60>,\n",
              "                                    vocabulary=None)),\n",
              "                   ('tfidf',\n",
              "                    TfidfTransformer(norm='l2', smooth_idf=True,\n",
              "                                     sublinear_tf=False, use_idf=True))],\n",
              "            verbose=False)),\n",
              "  ('starting_verb', StartingVerbExtractor()),\n",
              "  ('num_verbs', CountPosTagTransformer(tag_to_sum='VB')),\n",
              "  ('num_nouns', CountPosTagTransformer(tag_to_sum='NN')),\n",
              "  ('num_adjectives', CountPosTagTransformer(tag_to_sum='JJ')),\n",
              "  ('num_pronouns', CountPosTagTransformer(tag_to_sum='PRP'))],\n",
              " 'features__transformer_weights': None,\n",
              " 'features__verbose': False,\n",
              " 'memory': None,\n",
              " 'steps': [('features', FeatureUnion(n_jobs=None,\n",
              "                transformer_list=[('text_pipeline',\n",
              "                                   Pipeline(memory=None,\n",
              "                                            steps=[('vect',\n",
              "                                                    CountVectorizer(analyzer='word',\n",
              "                                                                    binary=False,\n",
              "                                                                    decode_error='strict',\n",
              "                                                                    dtype=<class 'numpy.int64'>,\n",
              "                                                                    encoding='utf-8',\n",
              "                                                                    input='content',\n",
              "                                                                    lowercase=True,\n",
              "                                                                    max_df=1.0,\n",
              "                                                                    max_features=None,\n",
              "                                                                    min_df=1,\n",
              "                                                                    ngram_range=(1,\n",
              "                                                                                 1),\n",
              "                                                                    preprocessor=None,\n",
              "                                                                    stop_words=None,\n",
              "                                                                    strip_accents=None,\n",
              "                                                                    tok...\n",
              "                                                                     sublinear_tf=False,\n",
              "                                                                     use_idf=True))],\n",
              "                                            verbose=False)),\n",
              "                                  ('starting_verb', StartingVerbExtractor()),\n",
              "                                  ('num_verbs',\n",
              "                                   CountPosTagTransformer(tag_to_sum='VB')),\n",
              "                                  ('num_nouns',\n",
              "                                   CountPosTagTransformer(tag_to_sum='NN')),\n",
              "                                  ('num_adjectives',\n",
              "                                   CountPosTagTransformer(tag_to_sum='JJ')),\n",
              "                                  ('num_pronouns',\n",
              "                                   CountPosTagTransformer(tag_to_sum='PRP'))],\n",
              "                transformer_weights=None, verbose=False)),\n",
              "  ('clf',\n",
              "   MultiOutputClassifier(estimator=XGBClassifier(base_score=0.5, booster='gbtree',\n",
              "                                                 colsample_bylevel=1,\n",
              "                                                 colsample_bynode=1,\n",
              "                                                 colsample_bytree=1, gamma=0,\n",
              "                                                 learning_rate=0.1,\n",
              "                                                 max_delta_step=0, max_depth=3,\n",
              "                                                 min_child_weight=1, missing=None,\n",
              "                                                 n_estimators=100, n_jobs=1,\n",
              "                                                 nthread=None,\n",
              "                                                 objective='binary:logistic',\n",
              "                                                 random_state=0, reg_alpha=0,\n",
              "                                                 reg_lambda=1, scale_pos_weight=1,\n",
              "                                                 seed=None, silent=None,\n",
              "                                                 subsample=1, verbosity=1),\n",
              "                         n_jobs=None))],\n",
              " 'verbose': False}"
            ]
          },
          "metadata": {
            "tags": []
          },
          "execution_count": 127
        }
      ]
    },
    {
      "cell_type": "code",
      "metadata": {
        "id": "ipmNFbZsOXy0"
      },
      "source": [
        "parameters = {\n",
        "    'features__text_pipeline__tfidf__use_idf': (True, False),\n",
        "    'clf__estimator__learning_rate': [0.1, 0.01, 0.001],\n",
        "}\n",
        "\n",
        "cv = GridSearchCV(pipeline3, param_grid=parameters)"
      ],
      "execution_count": 156,
      "outputs": []
    },
    {
      "cell_type": "code",
      "metadata": {
        "colab": {
          "base_uri": "https://localhost:8080/"
        },
        "id": "5iG_34wRO70k",
        "outputId": "0f3e564c-2a59-4192-b702-073ffdf8a481"
      },
      "source": [
        "cv.fit(X_train, y_train)"
      ],
      "execution_count": 157,
      "outputs": [
        {
          "output_type": "stream",
          "text": [
            "/usr/local/lib/python3.6/dist-packages/sklearn/base.py:197: FutureWarning: From version 0.24, get_params will raise an AttributeError if a parameter cannot be retrieved as an instance attribute. Previously it would return None.\n",
            "  FutureWarning)\n",
            "/usr/local/lib/python3.6/dist-packages/sklearn/base.py:197: FutureWarning: From version 0.24, get_params will raise an AttributeError if a parameter cannot be retrieved as an instance attribute. Previously it would return None.\n",
            "  FutureWarning)\n",
            "/usr/local/lib/python3.6/dist-packages/sklearn/base.py:197: FutureWarning: From version 0.24, get_params will raise an AttributeError if a parameter cannot be retrieved as an instance attribute. Previously it would return None.\n",
            "  FutureWarning)\n",
            "/usr/local/lib/python3.6/dist-packages/sklearn/base.py:197: FutureWarning: From version 0.24, get_params will raise an AttributeError if a parameter cannot be retrieved as an instance attribute. Previously it would return None.\n",
            "  FutureWarning)\n",
            "/usr/local/lib/python3.6/dist-packages/sklearn/base.py:197: FutureWarning: From version 0.24, get_params will raise an AttributeError if a parameter cannot be retrieved as an instance attribute. Previously it would return None.\n",
            "  FutureWarning)\n",
            "/usr/local/lib/python3.6/dist-packages/sklearn/base.py:197: FutureWarning: From version 0.24, get_params will raise an AttributeError if a parameter cannot be retrieved as an instance attribute. Previously it would return None.\n",
            "  FutureWarning)\n",
            "/usr/local/lib/python3.6/dist-packages/sklearn/base.py:197: FutureWarning: From version 0.24, get_params will raise an AttributeError if a parameter cannot be retrieved as an instance attribute. Previously it would return None.\n",
            "  FutureWarning)\n",
            "/usr/local/lib/python3.6/dist-packages/sklearn/base.py:197: FutureWarning: From version 0.24, get_params will raise an AttributeError if a parameter cannot be retrieved as an instance attribute. Previously it would return None.\n",
            "  FutureWarning)\n",
            "/usr/local/lib/python3.6/dist-packages/sklearn/base.py:197: FutureWarning: From version 0.24, get_params will raise an AttributeError if a parameter cannot be retrieved as an instance attribute. Previously it would return None.\n",
            "  FutureWarning)\n",
            "/usr/local/lib/python3.6/dist-packages/sklearn/base.py:197: FutureWarning: From version 0.24, get_params will raise an AttributeError if a parameter cannot be retrieved as an instance attribute. Previously it would return None.\n",
            "  FutureWarning)\n",
            "/usr/local/lib/python3.6/dist-packages/sklearn/base.py:197: FutureWarning: From version 0.24, get_params will raise an AttributeError if a parameter cannot be retrieved as an instance attribute. Previously it would return None.\n",
            "  FutureWarning)\n",
            "/usr/local/lib/python3.6/dist-packages/sklearn/base.py:197: FutureWarning: From version 0.24, get_params will raise an AttributeError if a parameter cannot be retrieved as an instance attribute. Previously it would return None.\n",
            "  FutureWarning)\n",
            "/usr/local/lib/python3.6/dist-packages/sklearn/base.py:197: FutureWarning: From version 0.24, get_params will raise an AttributeError if a parameter cannot be retrieved as an instance attribute. Previously it would return None.\n",
            "  FutureWarning)\n",
            "/usr/local/lib/python3.6/dist-packages/sklearn/base.py:197: FutureWarning: From version 0.24, get_params will raise an AttributeError if a parameter cannot be retrieved as an instance attribute. Previously it would return None.\n",
            "  FutureWarning)\n",
            "/usr/local/lib/python3.6/dist-packages/sklearn/base.py:197: FutureWarning: From version 0.24, get_params will raise an AttributeError if a parameter cannot be retrieved as an instance attribute. Previously it would return None.\n",
            "  FutureWarning)\n",
            "/usr/local/lib/python3.6/dist-packages/sklearn/base.py:197: FutureWarning: From version 0.24, get_params will raise an AttributeError if a parameter cannot be retrieved as an instance attribute. Previously it would return None.\n",
            "  FutureWarning)\n",
            "/usr/local/lib/python3.6/dist-packages/sklearn/base.py:197: FutureWarning: From version 0.24, get_params will raise an AttributeError if a parameter cannot be retrieved as an instance attribute. Previously it would return None.\n",
            "  FutureWarning)\n",
            "/usr/local/lib/python3.6/dist-packages/sklearn/base.py:197: FutureWarning: From version 0.24, get_params will raise an AttributeError if a parameter cannot be retrieved as an instance attribute. Previously it would return None.\n",
            "  FutureWarning)\n",
            "/usr/local/lib/python3.6/dist-packages/sklearn/base.py:197: FutureWarning: From version 0.24, get_params will raise an AttributeError if a parameter cannot be retrieved as an instance attribute. Previously it would return None.\n",
            "  FutureWarning)\n",
            "/usr/local/lib/python3.6/dist-packages/sklearn/base.py:197: FutureWarning: From version 0.24, get_params will raise an AttributeError if a parameter cannot be retrieved as an instance attribute. Previously it would return None.\n",
            "  FutureWarning)\n",
            "/usr/local/lib/python3.6/dist-packages/sklearn/base.py:197: FutureWarning: From version 0.24, get_params will raise an AttributeError if a parameter cannot be retrieved as an instance attribute. Previously it would return None.\n",
            "  FutureWarning)\n",
            "/usr/local/lib/python3.6/dist-packages/sklearn/base.py:197: FutureWarning: From version 0.24, get_params will raise an AttributeError if a parameter cannot be retrieved as an instance attribute. Previously it would return None.\n",
            "  FutureWarning)\n",
            "/usr/local/lib/python3.6/dist-packages/sklearn/base.py:197: FutureWarning: From version 0.24, get_params will raise an AttributeError if a parameter cannot be retrieved as an instance attribute. Previously it would return None.\n",
            "  FutureWarning)\n",
            "/usr/local/lib/python3.6/dist-packages/sklearn/base.py:197: FutureWarning: From version 0.24, get_params will raise an AttributeError if a parameter cannot be retrieved as an instance attribute. Previously it would return None.\n",
            "  FutureWarning)\n",
            "/usr/local/lib/python3.6/dist-packages/sklearn/base.py:197: FutureWarning: From version 0.24, get_params will raise an AttributeError if a parameter cannot be retrieved as an instance attribute. Previously it would return None.\n",
            "  FutureWarning)\n",
            "/usr/local/lib/python3.6/dist-packages/sklearn/base.py:197: FutureWarning: From version 0.24, get_params will raise an AttributeError if a parameter cannot be retrieved as an instance attribute. Previously it would return None.\n",
            "  FutureWarning)\n",
            "/usr/local/lib/python3.6/dist-packages/sklearn/base.py:197: FutureWarning: From version 0.24, get_params will raise an AttributeError if a parameter cannot be retrieved as an instance attribute. Previously it would return None.\n",
            "  FutureWarning)\n",
            "/usr/local/lib/python3.6/dist-packages/sklearn/base.py:197: FutureWarning: From version 0.24, get_params will raise an AttributeError if a parameter cannot be retrieved as an instance attribute. Previously it would return None.\n",
            "  FutureWarning)\n",
            "/usr/local/lib/python3.6/dist-packages/sklearn/base.py:197: FutureWarning: From version 0.24, get_params will raise an AttributeError if a parameter cannot be retrieved as an instance attribute. Previously it would return None.\n",
            "  FutureWarning)\n",
            "/usr/local/lib/python3.6/dist-packages/sklearn/base.py:197: FutureWarning: From version 0.24, get_params will raise an AttributeError if a parameter cannot be retrieved as an instance attribute. Previously it would return None.\n",
            "  FutureWarning)\n",
            "/usr/local/lib/python3.6/dist-packages/sklearn/base.py:197: FutureWarning: From version 0.24, get_params will raise an AttributeError if a parameter cannot be retrieved as an instance attribute. Previously it would return None.\n",
            "  FutureWarning)\n",
            "/usr/local/lib/python3.6/dist-packages/sklearn/base.py:197: FutureWarning: From version 0.24, get_params will raise an AttributeError if a parameter cannot be retrieved as an instance attribute. Previously it would return None.\n",
            "  FutureWarning)\n"
          ],
          "name": "stderr"
        },
        {
          "output_type": "execute_result",
          "data": {
            "text/plain": [
              "GridSearchCV(cv=None, error_score=nan,\n",
              "             estimator=Pipeline(memory=None,\n",
              "                                steps=[('features',\n",
              "                                        FeatureUnion(n_jobs=None,\n",
              "                                                     transformer_list=[('text_pipeline',\n",
              "                                                                        Pipeline(memory=None,\n",
              "                                                                                 steps=[('vect',\n",
              "                                                                                         CountVectorizer(analyzer='word',\n",
              "                                                                                                         binary=False,\n",
              "                                                                                                         decode_error='strict',\n",
              "                                                                                                         dtype=<class 'numpy.int64'>,\n",
              "                                                                                                         encoding='utf-8',\n",
              "                                                                                                         input='content',\n",
              "                                                                                                         lowercase=True,\n",
              "                                                                                                         max_df=1.0,\n",
              "                                                                                                         max_features=N...\n",
              "                                                                                      reg_alpha=0,\n",
              "                                                                                      reg_lambda=1,\n",
              "                                                                                      scale_pos_weight=1,\n",
              "                                                                                      seed=None,\n",
              "                                                                                      silent=None,\n",
              "                                                                                      subsample=1,\n",
              "                                                                                      verbosity=1),\n",
              "                                                              n_jobs=None))],\n",
              "                                verbose=False),\n",
              "             iid='deprecated', n_jobs=None,\n",
              "             param_grid={'clf__estimator__learning_rate': [0.1, 0.01, 0.001],\n",
              "                         'features__text_pipeline__tfidf__use_idf': (True,\n",
              "                                                                     False)},\n",
              "             pre_dispatch='2*n_jobs', refit=True, return_train_score=False,\n",
              "             scoring=None, verbose=0)"
            ]
          },
          "metadata": {
            "tags": []
          },
          "execution_count": 157
        }
      ]
    },
    {
      "cell_type": "code",
      "metadata": {
        "id": "9jJwcDiOPKDW"
      },
      "source": [
        "y_pred_cv = cv.predict(X_test)"
      ],
      "execution_count": 158,
      "outputs": []
    },
    {
      "cell_type": "code",
      "metadata": {
        "colab": {
          "base_uri": "https://localhost:8080/"
        },
        "id": "6FxAKMY4TASO",
        "outputId": "17da48d2-0bbd-4157-d01b-4b6b81f8acd1"
      },
      "source": [
        "cv.best_params_"
      ],
      "execution_count": 159,
      "outputs": [
        {
          "output_type": "execute_result",
          "data": {
            "text/plain": [
              "{'clf__estimator__learning_rate': 0.1,\n",
              " 'features__text_pipeline__tfidf__use_idf': False}"
            ]
          },
          "metadata": {
            "tags": []
          },
          "execution_count": 159
        }
      ]
    },
    {
      "cell_type": "code",
      "metadata": {
        "colab": {
          "base_uri": "https://localhost:8080/"
        },
        "id": "hzFIdGfITHE3",
        "outputId": "7381f445-404b-45bf-8e0d-d14bd96b8675"
      },
      "source": [
        "metrics_cv = {}\n",
        "for i, col in enumerate(list(df.iloc[:, 4:].columns)):\n",
        "    metrics_cv[col] = classification_report(y_test[:, i], y_pred_cv[:, i], output_dict=True)"
      ],
      "execution_count": 160,
      "outputs": [
        {
          "output_type": "stream",
          "text": [
            "/usr/local/lib/python3.6/dist-packages/sklearn/metrics/_classification.py:1272: UndefinedMetricWarning: Precision and F-score are ill-defined and being set to 0.0 in labels with no predicted samples. Use `zero_division` parameter to control this behavior.\n",
            "  _warn_prf(average, modifier, msg_start, len(result))\n"
          ],
          "name": "stderr"
        }
      ]
    },
    {
      "cell_type": "code",
      "metadata": {
        "id": "59JqTZMsTLq-"
      },
      "source": [
        "metrics_df = append_metrics_df(metrics_df, metrics_cv, 'XGBoost_CV')"
      ],
      "execution_count": 161,
      "outputs": []
    },
    {
      "cell_type": "markdown",
      "metadata": {
        "id": "rvI97bSmNzoy"
      },
      "source": [
        "## Analysing the results "
      ]
    },
    {
      "cell_type": "code",
      "metadata": {
        "colab": {
          "base_uri": "https://localhost:8080/",
          "height": 201
        },
        "id": "8OXdeoznHuPb",
        "outputId": "27bd7723-7eed-4848-9f01-0069ec26ce21"
      },
      "source": [
        "# Getting the average score for each trial\n",
        "metrics_df.groupby('trial').agg('sum') / Y.shape[1]"
      ],
      "execution_count": 162,
      "outputs": [
        {
          "output_type": "execute_result",
          "data": {
            "text/html": [
              "<div>\n",
              "<style scoped>\n",
              "    .dataframe tbody tr th:only-of-type {\n",
              "        vertical-align: middle;\n",
              "    }\n",
              "\n",
              "    .dataframe tbody tr th {\n",
              "        vertical-align: top;\n",
              "    }\n",
              "\n",
              "    .dataframe thead th {\n",
              "        text-align: right;\n",
              "    }\n",
              "</style>\n",
              "<table border=\"1\" class=\"dataframe\">\n",
              "  <thead>\n",
              "    <tr style=\"text-align: right;\">\n",
              "      <th></th>\n",
              "      <th>f1-score</th>\n",
              "      <th>precision</th>\n",
              "      <th>recall</th>\n",
              "      <th>support</th>\n",
              "    </tr>\n",
              "    <tr>\n",
              "      <th>trial</th>\n",
              "      <th></th>\n",
              "      <th></th>\n",
              "      <th></th>\n",
              "      <th></th>\n",
              "    </tr>\n",
              "  </thead>\n",
              "  <tbody>\n",
              "    <tr>\n",
              "      <th>RandomForest</th>\n",
              "      <td>0.935922</td>\n",
              "      <td>0.937984</td>\n",
              "      <td>0.947826</td>\n",
              "      <td>5244.0</td>\n",
              "    </tr>\n",
              "    <tr>\n",
              "      <th>XGBoost_CV</th>\n",
              "      <td>0.938327</td>\n",
              "      <td>0.941213</td>\n",
              "      <td>0.948235</td>\n",
              "      <td>5244.0</td>\n",
              "    </tr>\n",
              "    <tr>\n",
              "      <th>XGBoost_More_Features</th>\n",
              "      <td>0.938832</td>\n",
              "      <td>0.941320</td>\n",
              "      <td>0.948376</td>\n",
              "      <td>5244.0</td>\n",
              "    </tr>\n",
              "    <tr>\n",
              "      <th>xgboost</th>\n",
              "      <td>0.937866</td>\n",
              "      <td>0.941037</td>\n",
              "      <td>0.947957</td>\n",
              "      <td>5244.0</td>\n",
              "    </tr>\n",
              "  </tbody>\n",
              "</table>\n",
              "</div>"
            ],
            "text/plain": [
              "                       f1-score  precision    recall  support\n",
              "trial                                                        \n",
              "RandomForest           0.935922   0.937984  0.947826   5244.0\n",
              "XGBoost_CV             0.938327   0.941213  0.948235   5244.0\n",
              "XGBoost_More_Features  0.938832   0.941320  0.948376   5244.0\n",
              "xgboost                0.937866   0.941037  0.947957   5244.0"
            ]
          },
          "metadata": {
            "tags": []
          },
          "execution_count": 162
        }
      ]
    },
    {
      "cell_type": "code",
      "metadata": {
        "id": "LiBTwNiTE5aB"
      },
      "source": [
        "metrics_df = metrics_df.sort_values('f1-score')"
      ],
      "execution_count": 163,
      "outputs": []
    },
    {
      "cell_type": "code",
      "metadata": {
        "id": "bQ4aceb4h_ax"
      },
      "source": [
        "metrics_df = pd.read_csv('/content/drive/MyDrive/Estudos/Data Science Nano/metrics.csv')"
      ],
      "execution_count": 2,
      "outputs": []
    },
    {
      "cell_type": "code",
      "metadata": {
        "colab": {
          "base_uri": "https://localhost:8080/",
          "height": 201
        },
        "id": "e-jDo2C1o6z7",
        "outputId": "ba118972-3c34-4a7b-c11e-6367a6e22f37"
      },
      "source": [
        "best_metrics_df = metrics_df[metrics_df['trial'] == 'XGBoost_More_Features'].sort_values(['f1-score'])\n",
        "best_metrics_df.head()"
      ],
      "execution_count": 3,
      "outputs": [
        {
          "output_type": "execute_result",
          "data": {
            "text/html": [
              "<div>\n",
              "<style scoped>\n",
              "    .dataframe tbody tr th:only-of-type {\n",
              "        vertical-align: middle;\n",
              "    }\n",
              "\n",
              "    .dataframe tbody tr th {\n",
              "        vertical-align: top;\n",
              "    }\n",
              "\n",
              "    .dataframe thead th {\n",
              "        text-align: right;\n",
              "    }\n",
              "</style>\n",
              "<table border=\"1\" class=\"dataframe\">\n",
              "  <thead>\n",
              "    <tr style=\"text-align: right;\">\n",
              "      <th></th>\n",
              "      <th>Unnamed: 0</th>\n",
              "      <th>trial</th>\n",
              "      <th>target</th>\n",
              "      <th>f1-score</th>\n",
              "      <th>precision</th>\n",
              "      <th>recall</th>\n",
              "      <th>support</th>\n",
              "    </tr>\n",
              "  </thead>\n",
              "  <tbody>\n",
              "    <tr>\n",
              "      <th>2</th>\n",
              "      <td>70</td>\n",
              "      <td>XGBoost_More_Features</td>\n",
              "      <td>related</td>\n",
              "      <td>0.736104</td>\n",
              "      <td>0.784208</td>\n",
              "      <td>0.789855</td>\n",
              "      <td>5244.0</td>\n",
              "    </tr>\n",
              "    <tr>\n",
              "      <th>5</th>\n",
              "      <td>73</td>\n",
              "      <td>XGBoost_More_Features</td>\n",
              "      <td>aid_related</td>\n",
              "      <td>0.755182</td>\n",
              "      <td>0.761815</td>\n",
              "      <td>0.761823</td>\n",
              "      <td>5244.0</td>\n",
              "    </tr>\n",
              "    <tr>\n",
              "      <th>11</th>\n",
              "      <td>87</td>\n",
              "      <td>XGBoost_More_Features</td>\n",
              "      <td>other_aid</td>\n",
              "      <td>0.830268</td>\n",
              "      <td>0.842857</td>\n",
              "      <td>0.873188</td>\n",
              "      <td>5244.0</td>\n",
              "    </tr>\n",
              "    <tr>\n",
              "      <th>15</th>\n",
              "      <td>104</td>\n",
              "      <td>XGBoost_More_Features</td>\n",
              "      <td>direct_report</td>\n",
              "      <td>0.838979</td>\n",
              "      <td>0.851904</td>\n",
              "      <td>0.859268</td>\n",
              "      <td>5244.0</td>\n",
              "    </tr>\n",
              "    <tr>\n",
              "      <th>17</th>\n",
              "      <td>97</td>\n",
              "      <td>XGBoost_More_Features</td>\n",
              "      <td>weather_related</td>\n",
              "      <td>0.864858</td>\n",
              "      <td>0.874104</td>\n",
              "      <td>0.872426</td>\n",
              "      <td>5244.0</td>\n",
              "    </tr>\n",
              "  </tbody>\n",
              "</table>\n",
              "</div>"
            ],
            "text/plain": [
              "    Unnamed: 0                  trial  ...    recall  support\n",
              "2           70  XGBoost_More_Features  ...  0.789855   5244.0\n",
              "5           73  XGBoost_More_Features  ...  0.761823   5244.0\n",
              "11          87  XGBoost_More_Features  ...  0.873188   5244.0\n",
              "15         104  XGBoost_More_Features  ...  0.859268   5244.0\n",
              "17          97  XGBoost_More_Features  ...  0.872426   5244.0\n",
              "\n",
              "[5 rows x 7 columns]"
            ]
          },
          "metadata": {
            "tags": []
          },
          "execution_count": 3
        }
      ]
    },
    {
      "cell_type": "code",
      "metadata": {
        "colab": {
          "base_uri": "https://localhost:8080/",
          "height": 911
        },
        "id": "kJqAJ1rUIH1j",
        "outputId": "8ca8c471-3102-484d-a7b9-37064cbfb5d1"
      },
      "source": [
        "# Plotting the scores per label of the best trial\n",
        "fig, ax = plt.subplots(figsize=(17, 15))\n",
        "ax.barh(best_metrics_df['target'].values, best_metrics_df['f1-score'].values)\n",
        "plt.title(\"F1-score per label\")\n",
        "plt.xlabel(\"F1-score\")\n",
        "plt.ylabel(\"Labels\")\n",
        "plt.show();"
      ],
      "execution_count": 4,
      "outputs": [
        {
          "output_type": "display_data",
          "data": {
            "image/png": "[encoded data removed]",
            "text/plain": [
              "<Figure size 1224x1080 with 1 Axes>"
            ]
          },
          "metadata": {
            "tags": [],
            "needs_background": "light"
          }
        }
      ]
    },
    {
      "cell_type": "markdown",
      "metadata": {
        "id": "S4hoIVfy9Xfg"
      },
      "source": [
        "## Saving the model"
      ]
    },
    {
      "cell_type": "code",
      "metadata": {
        "colab": {
          "base_uri": "https://localhost:8080/"
        },
        "id": "GPVr497aLseL",
        "outputId": "79705620-e13e-4262-e5f4-cb7b9bee8615"
      },
      "source": [
        "joblib.dump(pipeline, 'filename2.pkl')"
      ],
      "execution_count": null,
      "outputs": [
        {
          "output_type": "execute_result",
          "data": {
            "text/plain": [
              "['filename2.pkl']"
            ]
          },
          "metadata": {
            "tags": []
          },
          "execution_count": 40
        }
      ]
    }
  ]
}